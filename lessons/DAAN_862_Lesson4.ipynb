{
 "cells": [
  {
   "cell_type": "markdown",
   "id": "1aa5b1be-f281-4768-959b-9d429121a5d0",
   "metadata": {},
   "source": [
    "# DAAN 862 Lesson 4 Assignment 1"
   ]
  },
  {
   "cell_type": "code",
   "execution_count": 107,
   "id": "151ab66a-c755-4d8e-9fb1-cdb6dca08f17",
   "metadata": {},
   "outputs": [],
   "source": [
    "import pandas as pd"
   ]
  },
  {
   "cell_type": "markdown",
   "id": "1eec0d6c-e9da-4d39-9254-cb043260b3cc",
   "metadata": {},
   "source": [
    "## Question 1"
   ]
  },
  {
   "cell_type": "markdown",
   "id": "2f4d6404-d774-45f1-8a2b-18b75a75f5bc",
   "metadata": {},
   "source": [
    "## Explore the dataset"
   ]
  },
  {
   "cell_type": "code",
   "execution_count": 111,
   "id": "40c87283-fc98-48e2-a3f8-88982d3437b6",
   "metadata": {},
   "outputs": [],
   "source": [
    "# Load the mtcars dataset\n",
    "df = pd.read_csv('Assignment4_data.csv')"
   ]
  },
  {
   "cell_type": "code",
   "execution_count": 113,
   "id": "85726532-a45a-49d0-9e0f-441267ee543e",
   "metadata": {},
   "outputs": [
    {
     "name": "stdout",
     "output_type": "stream",
     "text": [
      "              one         two       three        four        five\n",
      "count  195.000000  197.000000  199.000000  194.000000  196.000000\n",
      "mean    -2.656410    2.208122    2.095477   -2.829897   -2.612245\n",
      "std     67.489135   53.116759  101.864120   87.098996   84.158719\n",
      "min   -363.000000 -100.000000 -100.000000 -576.000000 -821.000000\n",
      "25%    -54.500000  -44.000000  -60.000000  -52.500000  -42.250000\n",
      "50%      0.000000   -1.000000   -9.000000   -8.000000   -1.000000\n",
      "75%     52.000000   45.000000   45.000000   44.000000   54.250000\n",
      "max     97.000000   97.000000  832.000000  728.000000   99.000000\n"
     ]
    }
   ],
   "source": [
    "assignment4 = df.describe()\n",
    "print(assignment4)"
   ]
  },
  {
   "cell_type": "code",
   "execution_count": 115,
   "id": "06feb55a-a5dd-447d-a79b-48121769ba40",
   "metadata": {},
   "outputs": [
    {
     "name": "stdout",
     "output_type": "stream",
     "text": [
      "<class 'pandas.core.frame.DataFrame'>\n",
      "Index: 8 entries, count to max\n",
      "Data columns (total 5 columns):\n",
      " #   Column  Non-Null Count  Dtype  \n",
      "---  ------  --------------  -----  \n",
      " 0   one     8 non-null      float64\n",
      " 1   two     8 non-null      float64\n",
      " 2   three   8 non-null      float64\n",
      " 3   four    8 non-null      float64\n",
      " 4   five    8 non-null      float64\n",
      "dtypes: float64(5)\n",
      "memory usage: 384.0+ bytes\n",
      "None\n"
     ]
    }
   ],
   "source": [
    "# Display basic information about the dataset\n",
    "print(assignment4.info())"
   ]
  },
  {
   "cell_type": "code",
   "execution_count": 117,
   "id": "5df29caf-7e10-4244-8699-cfbefea515bc",
   "metadata": {},
   "outputs": [
    {
     "name": "stdout",
     "output_type": "stream",
     "text": [
      "              one         two       three        four        five\n",
      "count  195.000000  197.000000  199.000000  194.000000  196.000000\n",
      "mean    -2.656410    2.208122    2.095477   -2.829897   -2.612245\n",
      "std     67.489135   53.116759  101.864120   87.098996   84.158719\n",
      "min   -363.000000 -100.000000 -100.000000 -576.000000 -821.000000\n",
      "25%    -54.500000  -44.000000  -60.000000  -52.500000  -42.250000\n"
     ]
    }
   ],
   "source": [
    "print(assignment4.head())"
   ]
  },
  {
   "cell_type": "markdown",
   "id": "6c6b40d4-dcd5-4f0f-b488-bb99d37e014d",
   "metadata": {},
   "source": [
    "## Find and handle missing values "
   ]
  },
  {
   "cell_type": "code",
   "execution_count": 120,
   "id": "7b6fabf8-ab9d-4217-96ef-ce67089a297a",
   "metadata": {},
   "outputs": [
    {
     "name": "stdout",
     "output_type": "stream",
     "text": [
      "one      0\n",
      "two      0\n",
      "three    0\n",
      "four     0\n",
      "five     0\n",
      "dtype: int64\n"
     ]
    }
   ],
   "source": [
    "# Check for missing values\n",
    "print(assignment4.isnull().sum())"
   ]
  },
  {
   "cell_type": "code",
   "execution_count": 122,
   "id": "fce9311d-b327-4bc3-b9bb-bbe108a57396",
   "metadata": {},
   "outputs": [],
   "source": [
    "# Handle missing values (example: fill with mean)\n",
    "df = df.fillna(assignment4.mean())"
   ]
  },
  {
   "cell_type": "code",
   "execution_count": 124,
   "id": "9721fd2b-3fe9-459f-bfa1-aadf1dd75ec6",
   "metadata": {},
   "outputs": [
    {
     "name": "stdout",
     "output_type": "stream",
     "text": [
      "one      0\n",
      "two      0\n",
      "three    0\n",
      "four     0\n",
      "five     0\n",
      "dtype: int64\n"
     ]
    }
   ],
   "source": [
    "# Check again for missing values\n",
    "print(assignment4.isnull().sum())"
   ]
  },
  {
   "cell_type": "markdown",
   "id": "ecfc3f27-0f5d-4bbc-a4b6-d94bad945c9b",
   "metadata": {},
   "source": [
    "## Convert the \"variable\" column to dummy variables "
   ]
  },
  {
   "cell_type": "code",
   "execution_count": 127,
   "id": "7e5e83c7-63b8-423e-b238-975f3900228a",
   "metadata": {},
   "outputs": [],
   "source": [
    "# Create dummy variables\n",
    "dummies = pd.get_dummies(df['variable'], prefix='var')"
   ]
  },
  {
   "cell_type": "code",
   "execution_count": 129,
   "id": "b723c8e9-6f2e-4a9f-9eb3-b0eea0be5d42",
   "metadata": {},
   "outputs": [],
   "source": [
    "# Join the dummies to the original dataframe\n",
    "df = pd.concat([df, dummies], axis=1)"
   ]
  },
  {
   "cell_type": "markdown",
   "id": "699069c5-3ce7-4abf-b3c9-71c93fd1e4ef",
   "metadata": {},
   "source": [
    "## Convert the \"one\" column into 3 bins"
   ]
  },
  {
   "cell_type": "code",
   "execution_count": 132,
   "id": "03744a2c-a156-4255-a869-1550676eb162",
   "metadata": {},
   "outputs": [],
   "source": [
    "# Create 3 bins for the 'one' column\n",
    "df['one_binned'] = pd.cut(df['one'], bins=3, labels=['Low', 'Medium', 'High'])"
   ]
  },
  {
   "cell_type": "code",
   "execution_count": 134,
   "id": "aad4ed3d-67ed-4807-bb17-698c7e8f22d7",
   "metadata": {},
   "outputs": [
    {
     "data": {
      "text/html": [
       "<div>\n",
       "<style scoped>\n",
       "    .dataframe tbody tr th:only-of-type {\n",
       "        vertical-align: middle;\n",
       "    }\n",
       "\n",
       "    .dataframe tbody tr th {\n",
       "        vertical-align: top;\n",
       "    }\n",
       "\n",
       "    .dataframe thead th {\n",
       "        text-align: right;\n",
       "    }\n",
       "</style>\n",
       "<table border=\"1\" class=\"dataframe\">\n",
       "  <thead>\n",
       "    <tr style=\"text-align: right;\">\n",
       "      <th></th>\n",
       "      <th>one</th>\n",
       "      <th>two</th>\n",
       "      <th>three</th>\n",
       "      <th>four</th>\n",
       "      <th>five</th>\n",
       "      <th>variable</th>\n",
       "      <th>var_A1</th>\n",
       "      <th>var_A2</th>\n",
       "      <th>var_B1</th>\n",
       "      <th>var_B2</th>\n",
       "      <th>one_binned</th>\n",
       "    </tr>\n",
       "  </thead>\n",
       "  <tbody>\n",
       "    <tr>\n",
       "      <th>0</th>\n",
       "      <td>-92.0</td>\n",
       "      <td>-76.0</td>\n",
       "      <td>-33.0</td>\n",
       "      <td>3.0</td>\n",
       "      <td>-13.0</td>\n",
       "      <td>B2</td>\n",
       "      <td>False</td>\n",
       "      <td>False</td>\n",
       "      <td>False</td>\n",
       "      <td>True</td>\n",
       "      <td>Medium</td>\n",
       "    </tr>\n",
       "    <tr>\n",
       "      <th>1</th>\n",
       "      <td>-21.0</td>\n",
       "      <td>76.0</td>\n",
       "      <td>38.0</td>\n",
       "      <td>-6.0</td>\n",
       "      <td>80.0</td>\n",
       "      <td>B1</td>\n",
       "      <td>False</td>\n",
       "      <td>False</td>\n",
       "      <td>True</td>\n",
       "      <td>False</td>\n",
       "      <td>High</td>\n",
       "    </tr>\n",
       "    <tr>\n",
       "      <th>2</th>\n",
       "      <td>-2.0</td>\n",
       "      <td>-47.0</td>\n",
       "      <td>-34.0</td>\n",
       "      <td>-86.0</td>\n",
       "      <td>-66.0</td>\n",
       "      <td>A1</td>\n",
       "      <td>True</td>\n",
       "      <td>False</td>\n",
       "      <td>False</td>\n",
       "      <td>False</td>\n",
       "      <td>High</td>\n",
       "    </tr>\n",
       "    <tr>\n",
       "      <th>3</th>\n",
       "      <td>-76.0</td>\n",
       "      <td>43.0</td>\n",
       "      <td>7.0</td>\n",
       "      <td>-40.0</td>\n",
       "      <td>-42.0</td>\n",
       "      <td>A1</td>\n",
       "      <td>True</td>\n",
       "      <td>False</td>\n",
       "      <td>False</td>\n",
       "      <td>False</td>\n",
       "      <td>Medium</td>\n",
       "    </tr>\n",
       "    <tr>\n",
       "      <th>4</th>\n",
       "      <td>44.0</td>\n",
       "      <td>37.0</td>\n",
       "      <td>-7.0</td>\n",
       "      <td>-14.0</td>\n",
       "      <td>30.0</td>\n",
       "      <td>A1</td>\n",
       "      <td>True</td>\n",
       "      <td>False</td>\n",
       "      <td>False</td>\n",
       "      <td>False</td>\n",
       "      <td>High</td>\n",
       "    </tr>\n",
       "  </tbody>\n",
       "</table>\n",
       "</div>"
      ],
      "text/plain": [
       "    one   two  three  four  five variable  var_A1  var_A2  var_B1  var_B2  \\\n",
       "0 -92.0 -76.0  -33.0   3.0 -13.0       B2   False   False   False    True   \n",
       "1 -21.0  76.0   38.0  -6.0  80.0       B1   False   False    True   False   \n",
       "2  -2.0 -47.0  -34.0 -86.0 -66.0       A1    True   False   False   False   \n",
       "3 -76.0  43.0    7.0 -40.0 -42.0       A1    True   False   False   False   \n",
       "4  44.0  37.0   -7.0 -14.0  30.0       A1    True   False   False   False   \n",
       "\n",
       "  one_binned  \n",
       "0     Medium  \n",
       "1       High  \n",
       "2       High  \n",
       "3     Medium  \n",
       "4       High  "
      ]
     },
     "execution_count": 134,
     "metadata": {},
     "output_type": "execute_result"
    }
   ],
   "source": [
    "# View the dataset with the binned column\n",
    "df.head()"
   ]
  },
  {
   "cell_type": "markdown",
   "id": "8b3bf10c-325c-45af-9ad3-abab39a53ddf",
   "metadata": {},
   "source": [
    "## Question 2:\n",
    "## Use the following speech by the Rev. Dr. Martin Luther King, Jr.:"
   ]
  },
  {
   "cell_type": "code",
   "execution_count": 137,
   "id": "385b05e6-2375-4329-a6e8-9001d5b5aa29",
   "metadata": {},
   "outputs": [],
   "source": [
    "s = \"\"\"I am happy to join with you today in what will go down in history as the greatest demonstration for freedom \n",
    "in the history of our nation. Five score years ago, a great American, in whose symbolic shadow we stand today, \n",
    "signed the Emancipation Proclamation. This momentous decree came as a great beacon light of hope to millions of Negro slaves \n",
    "who had been seared in the flames of withering injustice. It came as a joyous daybreak to end the long night of their captivity. \n",
    "But one hundred years later, the Negro still is not free. One hundred years later, the life of the Negro is still sadly crippled \n",
    "by the manacles of segregation and the chains of discrimination. One hundred years later, the Negro lives on a lonely island of poverty \n",
    "in the midst of a vast ocean of material prosperity. One hundred years later, the Negro is still languishing in the corners of American society \n",
    "and finds himself an exile in his own land. So we have come here today to dramatize a shameful condition.\"\"\""
   ]
  },
  {
   "cell_type": "code",
   "execution_count": 139,
   "id": "959a2a96-0895-4c12-a4f6-c4ff386cb7d3",
   "metadata": {},
   "outputs": [],
   "source": [
    "# Step 1: Split the speech into words and clean up punctuation\n",
    "import string"
   ]
  },
  {
   "cell_type": "code",
   "execution_count": 141,
   "id": "04c55a69-f061-4d3c-b414-3471703bfca2",
   "metadata": {},
   "outputs": [],
   "source": [
    "# Remove punctuation and convert to lowercase for consistency\n",
    "removal = str.maketrans('', '', string.punctuation)\n",
    "cleaned_s = s.translate(translator).lower()"
   ]
  },
  {
   "cell_type": "code",
   "execution_count": 143,
   "id": "00a847a2-63ec-479d-8794-514554f71557",
   "metadata": {},
   "outputs": [],
   "source": [
    "# Split the speech into words\n",
    "words = cleaned_s.split()"
   ]
  },
  {
   "cell_type": "code",
   "execution_count": 145,
   "id": "1c2b057e-d4e8-4363-a546-b05fe2210f9f",
   "metadata": {},
   "outputs": [
    {
     "name": "stdout",
     "output_type": "stream",
     "text": [
      "Number of unique words: 107\n"
     ]
    }
   ],
   "source": [
    "# 1. Find how many unique words are in the speech\n",
    "unique_words = set(words)\n",
    "num_unique_words = len(unique_words)\n",
    "print(\"Number of unique words:\", num_unique_words)"
   ]
  },
  {
   "cell_type": "code",
   "execution_count": 147,
   "id": "7dbdbd87-151c-4420-9430-f6524e31fca0",
   "metadata": {},
   "outputs": [],
   "source": [
    "# 2. Find which word appears the most\n",
    "from collections import Counter"
   ]
  },
  {
   "cell_type": "code",
   "execution_count": 149,
   "id": "468da9a4-dd75-4f9f-a1a7-28f74dadcb0e",
   "metadata": {},
   "outputs": [
    {
     "name": "stdout",
     "output_type": "stream",
     "text": [
      "Most common word: ('the', 14)\n"
     ]
    }
   ],
   "source": [
    "word_counts = Counter(words)\n",
    "most_common_word = word_counts.most_common(1)[0]\n",
    "print(\"Most common word:\", most_common_word)"
   ]
  },
  {
   "cell_type": "code",
   "execution_count": 151,
   "id": "9a6c1e99-cf08-44c3-a945-001001041265",
   "metadata": {},
   "outputs": [
    {
     "name": "stdout",
     "output_type": "stream",
     "text": [
      "Number of words starting with 't': 23\n"
     ]
    }
   ],
   "source": [
    "# 3. Find how many words start with 't'\n",
    "words_starting_with_t = [word for word in words if word.startswith('t')]\n",
    "num_words_starting_with_t = len(words_starting_with_t)\n",
    "print(\"Number of words starting with 't':\", num_words_starting_with_t)"
   ]
  }
 ],
 "metadata": {
  "kernelspec": {
   "display_name": "Python 3 (ipykernel)",
   "language": "python",
   "name": "python3"
  },
  "language_info": {
   "codemirror_mode": {
    "name": "ipython",
    "version": 3
   },
   "file_extension": ".py",
   "mimetype": "text/x-python",
   "name": "python",
   "nbconvert_exporter": "python",
   "pygments_lexer": "ipython3",
   "version": "3.10.14"
  }
 },
 "nbformat": 4,
 "nbformat_minor": 5
}
