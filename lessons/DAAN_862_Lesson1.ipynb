{
 "cells": [
  {
   "cell_type": "markdown",
   "id": "af465474-861d-4743-b44b-c637c058417f",
   "metadata": {},
   "source": [
    "# DAAN 862 Lesson 1 Assignment 1"
   ]
  },
  {
   "cell_type": "code",
   "execution_count": 10,
   "id": "258d4efc-38e3-46da-9747-588332649521",
   "metadata": {},
   "outputs": [],
   "source": [
    "import numpy as np\n",
    "from collections import Counter "
   ]
  },
  {
   "cell_type": "code",
   "execution_count": 11,
   "id": "4212d948-a109-47ba-a3da-ecf714a694f1",
   "metadata": {},
   "outputs": [],
   "source": [
    "L1 = []\n",
    "\n",
    "np.random.seed(56)\n",
    "\n",
    "for i in np.random.randint(0, 100, 10):\n",
    "\n",
    "    L1.extend([i] * np.random.randint(0, 100, 1)[0])\n",
    "\n",
    "np.random.shuffle(L1)"
   ]
  },
  {
   "cell_type": "markdown",
   "id": "c7f7515a-a5ec-42fa-b40c-e20d72efa018",
   "metadata": {},
   "source": [
    "## Question 1"
   ]
  },
  {
   "cell_type": "code",
   "execution_count": 12,
   "id": "30cc7f49-e388-4b12-87d8-40650fab65ab",
   "metadata": {},
   "outputs": [
    {
     "name": "stdout",
     "output_type": "stream",
     "text": [
      "Unique values in L1: [14 15 22 34 55 57 64 85 87 90]\n"
     ]
    }
   ],
   "source": [
    "# 1. Unique values in L1\n",
    "unique_values = np.unique(L1)\n",
    "print(\"Unique values in L1:\", unique_values)\n"
   ]
  },
  {
   "cell_type": "code",
   "execution_count": 13,
   "id": "94b23ccd-51d1-4b0c-9ffb-59c91cac6719",
   "metadata": {},
   "outputs": [
    {
     "name": "stdout",
     "output_type": "stream",
     "text": [
      "Number of unique values: 10\n"
     ]
    }
   ],
   "source": [
    "# 2. Number of unique values\n",
    "num_unique_values = len(unique_values)\n",
    "print(\"Number of unique values:\", num_unique_values)"
   ]
  },
  {
   "cell_type": "code",
   "execution_count": 14,
   "id": "70ba931e-71eb-4a86-821b-230a991e2a74",
   "metadata": {},
   "outputs": [
    {
     "name": "stdout",
     "output_type": "stream",
     "text": [
      "Dictionary with counts of unique items: {55: 31, 64: 66, 22: 33, 34: 43, 87: 80, 14: 11, 15: 12, 85: 24, 90: 10, 57: 89}\n"
     ]
    }
   ],
   "source": [
    "# 3. Create a dictionary with unique items and their counts\n",
    "value_counts = dict(Counter(L1))\n",
    "print(\"Dictionary with counts of unique items:\", value_counts)"
   ]
  },
  {
   "cell_type": "code",
   "execution_count": 15,
   "id": "ab9671d2-39b8-4cd6-8717-4ead624e03da",
   "metadata": {},
   "outputs": [
    {
     "name": "stdout",
     "output_type": "stream",
     "text": [
      "Most frequent value: 57\n"
     ]
    }
   ],
   "source": [
    "# 4. Find the most frequent value\n",
    "most_frequent_value = max(value_counts, key=value_counts.get)\n",
    "print(\"Most frequent value:\", most_frequent_value)"
   ]
  },
  {
   "cell_type": "markdown",
   "id": "2723044a-5ca1-4b8a-927a-94398aa7b495",
   "metadata": {},
   "source": [
    "## Question 2"
   ]
  },
  {
   "cell_type": "code",
   "execution_count": 16,
   "id": "88a5262a-95da-43ca-a8a1-639376c17138",
   "metadata": {},
   "outputs": [],
   "source": [
    "L2 = [879, 394, 235, 580, 628, 81, 206, 238, 927, 853, 622, 603, 110, 143, 824, 324, 343, 506, 634, 325, 258, 900, 960, 286, 449, 890, 921, 170, 888, 851]"
   ]
  },
  {
   "cell_type": "code",
   "execution_count": 18,
   "id": "8fd2d661-fb74-4125-a1c4-40db14673f74",
   "metadata": {},
   "outputs": [
    {
     "name": "stdout",
     "output_type": "stream",
     "text": [
      "Sum of even numbers in L2: 9418\n"
     ]
    }
   ],
   "source": [
    "# 2.1: Calculate the sum of the even numbers in L2 using a while loop\n",
    "sum_even_numbers = 0\n",
    "i = 0\n",
    "\n",
    "while i < len(L2):\n",
    "    if L2[i] % 2 == 0:\n",
    "        sum_even_numbers += L2[i]\n",
    "    i += 1\n",
    "\n",
    "print(\"Sum of even numbers in L2:\", sum_even_numbers)"
   ]
  },
  {
   "cell_type": "code",
   "execution_count": 21,
   "id": "894eb2d6-ab14-40a1-bfe5-bf4c621e7e04",
   "metadata": {},
   "outputs": [
    {
     "name": "stdout",
     "output_type": "stream",
     "text": [
      "Mean of L2: 534.27\n"
     ]
    }
   ],
   "source": [
    "# 2.2: Write a function to calculate the mean of a list\n",
    "def calculate_mean(list):\n",
    "    total_sum = 0\n",
    "    for number in list:\n",
    "        total_sum += number\n",
    "    return round(total_sum / len(list), 2)\n",
    "\n",
    "mean_L2 = calculate_mean(L2)\n",
    "print(\"Mean of L2:\", mean_L2)"
   ]
  },
  {
   "cell_type": "code",
   "execution_count": 23,
   "id": "b29d6dd6-ab64-4e48-91d7-0afeebaceec9",
   "metadata": {},
   "outputs": [
    {
     "name": "stdout",
     "output_type": "stream",
     "text": [
      "Sum of elements in L2 larger than 500: 12466\n"
     ]
    }
   ],
   "source": [
    "# 2.3: Calculate the sum for elements in L2 which are larger than 500 without using the sum function\n",
    "sum_above_500 = 0\n",
    "\n",
    "for i in L2:\n",
    "    if i > 500:\n",
    "        sum_above_500 += i\n",
    "\n",
    "print(\"Sum of elements in L2 larger than 500:\", sum_above_500)"
   ]
  },
  {
   "cell_type": "markdown",
   "id": "c7f31241-029b-4752-a754-028fbf1810ee",
   "metadata": {},
   "source": [
    "## Question 3"
   ]
  },
  {
   "cell_type": "code",
   "execution_count": 27,
   "id": "11d31317-d7ab-4bd8-a4c1-5496c2ae880c",
   "metadata": {},
   "outputs": [
    {
     "name": "stdout",
     "output_type": "stream",
     "text": [
      "pow(2, 10): 1024\n",
      "pow(3, -3): 0.037037037037037035\n"
     ]
    }
   ],
   "source": [
    "# Question 3: Implementing the function pow(x, n) without using built-in functions\n",
    "def pow(x, n):\n",
    "    result = 1\n",
    "    \n",
    "    # Handle positive exponent\n",
    "    if n > 0:\n",
    "        for i in range(n):\n",
    "            result *= x\n",
    "    # Handle negative exponent\n",
    "    elif n < 0:\n",
    "        for i in range(-n):\n",
    "            result /= x\n",
    "    # Handle zero exponent\n",
    "    else:\n",
    "        result = 1\n",
    "\n",
    "    return result\n",
    "\n",
    "# Calculate pow(2, 10) and pow(3, -3)\n",
    "pow_2_10 = pow(2, 10)\n",
    "pow_3_neg3 = pow(3, -3)\n",
    "\n",
    "print(\"pow(2, 10):\", pow_2_10)\n",
    "print(\"pow(3, -3):\", pow_3_neg3)"
   ]
  },
  {
   "cell_type": "code",
   "execution_count": null,
   "id": "c46c6343-37fe-4610-a7fb-d21b97fcf9b2",
   "metadata": {},
   "outputs": [],
   "source": []
  }
 ],
 "metadata": {
  "kernelspec": {
   "display_name": "Python 3 (ipykernel)",
   "language": "python",
   "name": "python3"
  },
  "language_info": {
   "codemirror_mode": {
    "name": "ipython",
    "version": 3
   },
   "file_extension": ".py",
   "mimetype": "text/x-python",
   "name": "python",
   "nbconvert_exporter": "python",
   "pygments_lexer": "ipython3",
   "version": "3.8.19"
  }
 },
 "nbformat": 4,
 "nbformat_minor": 5
}
