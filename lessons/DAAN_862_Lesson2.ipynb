{
 "cells": [
  {
   "cell_type": "markdown",
   "id": "a4719c16-e6ca-4001-b6bc-bba761ceb281",
   "metadata": {},
   "source": [
    "# DAAN 862 Lesson 2 Assignment 1"
   ]
  },
  {
   "cell_type": "code",
   "execution_count": 11,
   "id": "c71ea5a1-8cc7-4f8f-b24a-5d4026212348",
   "metadata": {},
   "outputs": [],
   "source": [
    "import numpy as np"
   ]
  },
  {
   "cell_type": "markdown",
   "id": "7f39bd9b-c9e6-4757-a57d-1406955eed5c",
   "metadata": {},
   "source": [
    "## Question 1"
   ]
  },
  {
   "cell_type": "code",
   "execution_count": 12,
   "id": "3d5ce780-83df-496b-97bd-e7e5e0c58500",
   "metadata": {},
   "outputs": [],
   "source": [
    "#Create Array 5X5\n",
    "array = np.random.randn(5, 5)"
   ]
  },
  {
   "cell_type": "code",
   "execution_count": 13,
   "id": "1ebfca9d-3311-47b0-be19-e75befabf9f5",
   "metadata": {},
   "outputs": [
    {
     "name": "stdout",
     "output_type": "stream",
     "text": [
      "[[ 1.21143311e+00  1.59281176e+00  1.25522138e+00 -7.32116325e-01\n",
      "   1.77743254e+00]\n",
      " [-1.60752744e+00 -6.45668890e-02  1.39470117e+00 -6.69615891e-01\n",
      "   1.29259279e+00]\n",
      " [ 1.15537832e+00 -9.39163332e-01 -1.64728776e-01 -1.27864877e-01\n",
      "   3.77359878e-01]\n",
      " [-1.03922169e+00 -8.56718864e-01  5.64219706e-01 -1.27342911e+00\n",
      "  -7.07044456e-01]\n",
      " [-1.87666327e-01 -1.53599916e-03  2.67898466e-01 -1.58229523e+00\n",
      "  -9.00540519e-01]]\n"
     ]
    }
   ],
   "source": [
    "print(array)"
   ]
  },
  {
   "cell_type": "code",
   "execution_count": 14,
   "id": "fbe164ff-c598-4d60-a436-094a086f49b9",
   "metadata": {},
   "outputs": [],
   "source": [
    "diagonal_sum = 0  # Initialize sum"
   ]
  },
  {
   "cell_type": "code",
   "execution_count": 15,
   "id": "e986d0da-71d1-445e-a945-92edbbbd19f8",
   "metadata": {},
   "outputs": [
    {
     "name": "stdout",
     "output_type": "stream",
     "text": [
      "Sum of diagonal elements: -1.191832183667726\n"
     ]
    }
   ],
   "source": [
    "# Loop through the indices of the array, we can use i and i for row and column since that is the diagonal position of elements when they are equal\n",
    "for i in range(5):  # 5x5 array, so range is 5\n",
    "    diagonal_sum += array[i][i]  # Add the diagonal element\n",
    "\n",
    "print(f\"Sum of diagonal elements: {diagonal_sum}\")"
   ]
  },
  {
   "cell_type": "code",
   "execution_count": 16,
   "id": "9bc62dde-89ed-4d96-a862-c1fbc4824afc",
   "metadata": {},
   "outputs": [
    {
     "data": {
      "text/plain": [
       "0.03501338843545887"
      ]
     },
     "execution_count": 16,
     "metadata": {},
     "output_type": "execute_result"
    }
   ],
   "source": [
    "np.sum(array)"
   ]
  },
  {
   "cell_type": "code",
   "execution_count": 22,
   "id": "4d89568c-039b-4fa9-88b1-ec9a009efc6b",
   "metadata": {},
   "outputs": [],
   "source": [
    "max_value = np.max(array)"
   ]
  },
  {
   "cell_type": "code",
   "execution_count": 23,
   "id": "67fd8e56-23b5-4208-850e-a094f5adf5a3",
   "metadata": {},
   "outputs": [
    {
     "name": "stdout",
     "output_type": "stream",
     "text": [
      "1.777432541777802\n"
     ]
    }
   ],
   "source": [
    "print(max_value)"
   ]
  },
  {
   "cell_type": "code",
   "execution_count": 24,
   "id": "472a7758-f537-466b-888f-4113d74a6d45",
   "metadata": {},
   "outputs": [],
   "source": [
    "min_value = np.min(array)"
   ]
  },
  {
   "cell_type": "code",
   "execution_count": 25,
   "id": "a7d31620-5486-4b39-93ec-4e1826b1bfc8",
   "metadata": {},
   "outputs": [
    {
     "name": "stdout",
     "output_type": "stream",
     "text": [
      "-1.60752743745788\n"
     ]
    }
   ],
   "source": [
    "print(min_value)"
   ]
  },
  {
   "cell_type": "markdown",
   "id": "d1d6de99-a816-4743-af28-aeab18273a2d",
   "metadata": {},
   "source": [
    "## Question 2"
   ]
  },
  {
   "cell_type": "code",
   "execution_count": 27,
   "id": "e8194eba-d9a6-48ad-95e9-7b0a9b99b1d9",
   "metadata": {},
   "outputs": [
    {
     "name": "stdout",
     "output_type": "stream",
     "text": [
      "[[746 805 593 399 878 461  94 177 463 680]\n",
      " [962 508 763 278 396 762 345 516 688   5]\n",
      " [  1 502   1 518 350 587 535 745 879 958]\n",
      " [ 50 341 420 656  88 280 245 904  84 619]\n",
      " [630 663 840 357 468  50 765  42  62 127]\n",
      " [338 431 133 873 186 308 381 852 866 213]\n",
      " [922 888 136 488 181 678 778  13 653  64]\n",
      " [977 371 978 773  44 374 787 290 943 100]\n",
      " [897 841 688  84 883 234  36 883 755 656]\n",
      " [158 565 793 629 235 294 989 971 121 637]]\n"
     ]
    }
   ],
   "source": [
    "A = np.random.randint(0, 1000, size=(10, 10))\n",
    "print(x)\n"
   ]
  },
  {
   "cell_type": "code",
   "execution_count": 29,
   "id": "bf63383a-aca5-4499-aaac-32b97a1e313f",
   "metadata": {},
   "outputs": [
    {
     "name": "stdout",
     "output_type": "stream",
     "text": [
      "Number of even numbers in the array: 50\n"
     ]
    }
   ],
   "source": [
    "even_num_count = 0  # Initialize counter\n",
    "\n",
    "# Loop through the 10x10 array\n",
    "for i in range(10):\n",
    "    for j in range(10):\n",
    "        if A[i, j] % 2 == 0:  # Check if the element is even\n",
    "            even_num_count += 1  # Increment the counter if it's even\n",
    "\n",
    "print(f\"Number of even numbers in the array: {even_num_count}\")\n"
   ]
  },
  {
   "cell_type": "code",
   "execution_count": 39,
   "id": "f327a8f0-2ae7-45d0-846b-d8a043cc7fc3",
   "metadata": {
    "scrolled": true
   },
   "outputs": [
    {
     "name": "stdout",
     "output_type": "stream",
     "text": [
      "[[ 1.09446863  0.87347863  1.07942766 -0.22789553  0.93890919  0.41328235\n",
      "   1.02022494  1.25235495  1.52403049]\n",
      " [ 1.22482663  1.24193823  0.69901718  2.07874766  1.42586459  0.88780472\n",
      "   1.00072297  0.12123423  1.15875887]\n",
      " [ 1.43891902  1.20240018  0.44781122  0.45316297  1.68286141  1.67736595\n",
      "   1.46234802  0.09579942  1.32032822]\n",
      " [ 0.76664031  0.99491646  0.46612384  1.13356432  0.2146873   1.47667395\n",
      "   0.56791097  1.74191918  0.28887878]\n",
      " [ 0.79257185  1.07099331  0.86139023  1.20107834  0.82953509  0.74894095\n",
      "   1.43289104  1.388553    1.26888016]\n",
      " [ 1.20150157  1.43816867  1.95476388  1.14083296  1.25695342  1.10139257\n",
      "   0.6943333   1.18909883  1.26696873]\n",
      " [-0.18664673  0.50497357  1.22407777  1.06994319  0.93288578  1.38914273\n",
      "   1.16062546  1.70688302  0.82183608]\n",
      " [ 1.24880581  0.05053246  0.39522126  1.04352787  2.18654391  0.78376239\n",
      "   1.01162342  1.42895611 -0.06431251]]\n"
     ]
    }
   ],
   "source": [
    "array_8x9 = np.random.normal(1, 0.5, size=(8, 9)) # Create a 8x 9 array from a normal dist with mean 1 and std dev 0.5\n",
    "print(array_8x9)"
   ]
  },
  {
   "cell_type": "code",
   "execution_count": 40,
   "id": "40fcb182-de4f-4c14-a6c7-e2e170b353c4",
   "metadata": {},
   "outputs": [],
   "source": [
    "total_sum = 0\n",
    "count = 0"
   ]
  },
  {
   "cell_type": "code",
   "execution_count": 41,
   "id": "c1a35956-23e7-4f9e-8259-4bcc0cdc60ad",
   "metadata": {},
   "outputs": [],
   "source": [
    "# Loop through the 8x9 array\n",
    "for i in range(8):\n",
    "    for j in range(9):\n",
    "        if (i + j) % 5 == 0:  # Check if (i + j) % 5 == 0\n",
    "            total_sum += array_8x9[i, j]  # Add the element to the sum\n",
    "            count += 1  # Count the number of such elements"
   ]
  },
  {
   "cell_type": "code",
   "execution_count": 42,
   "id": "48c75f84-d2af-43b2-b4c2-574e238bb096",
   "metadata": {},
   "outputs": [],
   "source": [
    "# Calculate the mean\n",
    "if count > 0:\n",
    "    mean_value = total_sum / count\n",
    "else:\n",
    "    mean_value = 0  # Handle case where no elements meet the condition"
   ]
  },
  {
   "cell_type": "code",
   "execution_count": 43,
   "id": "7b85625b-3541-44a1-871d-c6b5141d4e55",
   "metadata": {},
   "outputs": [
    {
     "name": "stdout",
     "output_type": "stream",
     "text": [
      "Mean of elements where (i + j) % 5 == 0: 0.9738592428578939\n"
     ]
    }
   ],
   "source": [
    "print(f\"Mean of elements where (i + j) % 5 == 0: {mean_value}\")"
   ]
  },
  {
   "cell_type": "code",
   "execution_count": null,
   "id": "35fdf140-dbcd-4c35-9df6-8712afca9532",
   "metadata": {},
   "outputs": [],
   "source": []
  }
 ],
 "metadata": {
  "kernelspec": {
   "display_name": "Python 3 (ipykernel)",
   "language": "python",
   "name": "python3"
  },
  "language_info": {
   "codemirror_mode": {
    "name": "ipython",
    "version": 3
   },
   "file_extension": ".py",
   "mimetype": "text/x-python",
   "name": "python",
   "nbconvert_exporter": "python",
   "pygments_lexer": "ipython3",
   "version": "3.8.19"
  }
 },
 "nbformat": 4,
 "nbformat_minor": 5
}
