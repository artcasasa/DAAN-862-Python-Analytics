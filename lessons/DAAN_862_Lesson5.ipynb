{
 "cells": [
  {
   "cell_type": "markdown",
   "id": "1aa5b1be-f281-4768-959b-9d429121a5d0",
   "metadata": {},
   "source": [
    "# DAAN 862 Lesson 5 Assignment 1"
   ]
  },
  {
   "cell_type": "code",
   "execution_count": 242,
   "id": "151ab66a-c755-4d8e-9fb1-cdb6dca08f17",
   "metadata": {},
   "outputs": [],
   "source": [
    "import pandas as pd"
   ]
  },
  {
   "cell_type": "markdown",
   "id": "2f4d6404-d774-45f1-8a2b-18b75a75f5bc",
   "metadata": {},
   "source": [
    "## Load, explore and clean the datases"
   ]
  },
  {
   "cell_type": "code",
   "execution_count": 245,
   "id": "53551fad-7736-46ab-a513-0c20e44ee4a9",
   "metadata": {},
   "outputs": [],
   "source": [
    "# Step 1: Load the datasets\n",
    "registration_df = pd.read_csv('Registration.csv')\n",
    "course_info_df = pd.read_excel('Course_info.xlsx')"
   ]
  },
  {
   "cell_type": "code",
   "execution_count": 247,
   "id": "81736cef-9e7e-461a-b5ec-545f4bf9247c",
   "metadata": {},
   "outputs": [
    {
     "name": "stdout",
     "output_type": "stream",
     "text": [
      "<class 'pandas.core.frame.DataFrame'>\n",
      "RangeIndex: 4900 entries, 0 to 4899\n",
      "Data columns (total 3 columns):\n",
      " #   Column        Non-Null Count  Dtype \n",
      "---  ------        --------------  ----- \n",
      " 0   Student name  4900 non-null   object\n",
      " 1   semester new  4900 non-null   object\n",
      " 2   coursename    4899 non-null   object\n",
      "dtypes: object(3)\n",
      "memory usage: 115.0+ KB\n",
      "None\n"
     ]
    }
   ],
   "source": [
    "# Display basic information about the registration dataframe\n",
    "print(registration_df.info())"
   ]
  },
  {
   "cell_type": "code",
   "execution_count": 249,
   "id": "e6d20623-6f84-4483-9e07-2dccb49fa62a",
   "metadata": {},
   "outputs": [
    {
     "name": "stdout",
     "output_type": "stream",
     "text": [
      "Student name    0\n",
      "semester new    0\n",
      "coursename      1\n",
      "dtype: int64\n"
     ]
    }
   ],
   "source": [
    "# Check for missing values\n",
    "print(registration_df.isnull().sum())"
   ]
  },
  {
   "cell_type": "code",
   "execution_count": 251,
   "id": "e6aa1407-86c2-4b68-bcfc-eb4d63c6c107",
   "metadata": {},
   "outputs": [],
   "source": [
    "# Handle missing values\n",
    "registration_df.dropna(inplace=True)"
   ]
  },
  {
   "cell_type": "code",
   "execution_count": 253,
   "id": "5d8251b8-e869-444f-977b-5a910cc4bd8a",
   "metadata": {},
   "outputs": [],
   "source": [
    "registration_df.columns = registration_df.columns.str.lower().str.replace(' ', '_')"
   ]
  },
  {
   "cell_type": "code",
   "execution_count": 255,
   "id": "41d6b8d5-61d1-430a-b3bb-4a6ba9613ad9",
   "metadata": {},
   "outputs": [],
   "source": [
    "# Convert semester to a standard format\n",
    "registration_df['semester'] = pd.to_datetime(registration_df['semester_new'].str.split().str[1] + \n",
    "                                             registration_df['semester_new'].str.split().str[0].map({'Spring': '03', 'Summer': '06', 'Fall': '09'}),\n",
    "                                             format='%Y%m')"
   ]
  },
  {
   "cell_type": "code",
   "execution_count": 257,
   "id": "a1231181-1474-40d7-9bee-89d985a0ccb2",
   "metadata": {},
   "outputs": [],
   "source": [
    "# Remove the original 'semester_new' column\n",
    "registration_df.drop('semester_new', axis=1, inplace=True)"
   ]
  },
  {
   "cell_type": "code",
   "execution_count": 259,
   "id": "9dda7198-6396-4858-afcd-194d699bc042",
   "metadata": {},
   "outputs": [
    {
     "name": "stdout",
     "output_type": "stream",
     "text": [
      "  student_name                  coursename   semester\n",
      "0    Bill Mumy     BEHAVIORAL PHARMACOLOGY 2004-09-01\n",
      "1    Bill Mumy     AMERICAN FOREIGN POLICY 2000-09-01\n",
      "2    Bill Mumy       DRUGS, BRAIN AND MIND 2003-09-01\n",
      "3    Bill Mumy  Environmental Case Studies 2005-09-01\n",
      "4    Bill Mumy     COMPUTER LINEAR ALGEBRA 2000-09-01\n"
     ]
    }
   ],
   "source": [
    "# Display the first few rows of the cleaned dataframe\n",
    "print(registration_df.head())"
   ]
  },
  {
   "cell_type": "code",
   "execution_count": 261,
   "id": "80878359-fbb8-435d-809e-ca0aa52639ed",
   "metadata": {},
   "outputs": [
    {
     "name": "stdout",
     "output_type": "stream",
     "text": [
      "student_name    0\n",
      "coursename      0\n",
      "semester        0\n",
      "dtype: int64\n"
     ]
    }
   ],
   "source": [
    "# Check for missing values\n",
    "print(registration_df.isnull().sum())"
   ]
  },
  {
   "cell_type": "code",
   "execution_count": 263,
   "id": "fdb92951-3007-45d5-9193-41c7d9ed2131",
   "metadata": {},
   "outputs": [
    {
     "name": "stdout",
     "output_type": "stream",
     "text": [
      "<class 'pandas.core.frame.DataFrame'>\n",
      "RangeIndex: 42 entries, 0 to 41\n",
      "Data columns (total 3 columns):\n",
      " #   Column         Non-Null Count  Dtype \n",
      "---  ------         --------------  ----- \n",
      " 0   Course number  42 non-null     object\n",
      " 1   Course Name    41 non-null     object\n",
      " 2   Course Type    42 non-null     object\n",
      "dtypes: object(3)\n",
      "memory usage: 1.1+ KB\n",
      "None\n"
     ]
    }
   ],
   "source": [
    "# Display basic information about the course info dataframe\n",
    "print(course_info_df.info())\n"
   ]
  },
  {
   "cell_type": "code",
   "execution_count": 265,
   "id": "f07dcda0-3753-40b2-a25f-9f9198b72cea",
   "metadata": {},
   "outputs": [
    {
     "name": "stdout",
     "output_type": "stream",
     "text": [
      "Course number    0\n",
      "Course Name      1\n",
      "Course Type      0\n",
      "dtype: int64\n"
     ]
    }
   ],
   "source": [
    "# Check for missing values\n",
    "print(course_info_df.isnull().sum())"
   ]
  },
  {
   "cell_type": "code",
   "execution_count": 267,
   "id": "cf09a2c2-a5f0-4ba3-b0fa-ddbc44c04d9f",
   "metadata": {},
   "outputs": [],
   "source": [
    "# Handle missing values\n",
    "course_info_df.dropna(inplace=True)"
   ]
  },
  {
   "cell_type": "code",
   "execution_count": 269,
   "id": "625e1aa2-df86-4628-b384-573b918dc227",
   "metadata": {},
   "outputs": [],
   "source": [
    "# Standardize column names\n",
    "course_info_df.columns = course_info_df.columns.str.lower().str.replace(' ', '_')\n"
   ]
  },
  {
   "cell_type": "code",
   "execution_count": 271,
   "id": "5927dc55-0920-4133-8d4b-cd07f9bbc9ac",
   "metadata": {},
   "outputs": [
    {
     "name": "stdout",
     "output_type": "stream",
     "text": [
      "course_number    0\n",
      "course_name_     0\n",
      "course_type      0\n",
      "dtype: int64\n"
     ]
    }
   ],
   "source": [
    "# Check for missing values\n",
    "print(course_info_df.isnull().sum())"
   ]
  },
  {
   "cell_type": "code",
   "execution_count": 273,
   "id": "0645c798-4bb0-41bc-b051-7c0dd3e7198d",
   "metadata": {},
   "outputs": [
    {
     "name": "stdout",
     "output_type": "stream",
     "text": [
      "  course_number                                     course_name_ course_type\n",
      "0       ARTS400  EXPERIMENTAL WRITING SEM: The Ecology of Poetry           C\n",
      "1       ARTS401                             ART: ancient to 1945           C\n",
      "2       ARTS465                         ENVIRONMENTAL SYSTEMS II           F\n",
      "3       ARTS486                          COMPUTER LINEAR ALGEBRA           F\n",
      "4       ARTS512                             ANALYTICAL MECHANICS           F\n"
     ]
    }
   ],
   "source": [
    "# Display the first few rows of the cleaned dataframe\n",
    "print(course_info_df.head())"
   ]
  },
  {
   "cell_type": "markdown",
   "id": "339db180-80cc-438c-9260-4c6a2182d916",
   "metadata": {},
   "source": [
    "## Which course has the highest registration? "
   ]
  },
  {
   "cell_type": "code",
   "execution_count": 276,
   "id": "97221cd0-3a68-4933-9212-fb2e13496ffe",
   "metadata": {},
   "outputs": [
    {
     "name": "stdout",
     "output_type": "stream",
     "text": [
      "The course with the highest registration is 'COMPUT LINEAR ALGEBRA' with 411 registrations.\n"
     ]
    }
   ],
   "source": [
    "# Count the number of registrations for each course\n",
    "course_registration_count = registration_df['coursename'].value_counts()\n",
    "\n",
    "# Get the course with the highest registration\n",
    "highest_registration_course = course_registration_count.index[0]\n",
    "highest_registration_count = course_registration_count.iloc[0]\n",
    "\n",
    "print(f\"The course with the highest registration is '{highest_registration_course}' with {highest_registration_count} registrations.\")"
   ]
  },
  {
   "cell_type": "markdown",
   "id": "6b9b20f4-ddb8-4dbe-9f3b-6985d46ae523",
   "metadata": {},
   "source": [
    "## Inner Join two datasets"
   ]
  },
  {
   "cell_type": "code",
   "execution_count": 279,
   "id": "39611021-9808-4c6a-b9a1-2b99b5a77aca",
   "metadata": {},
   "outputs": [
    {
     "name": "stdout",
     "output_type": "stream",
     "text": [
      "Columns in Registration DataFrame:\n",
      "Index(['student_name', 'coursename', 'semester'], dtype='object')\n"
     ]
    }
   ],
   "source": [
    "# Print column names of the Registration DataFrame\n",
    "print(\"Columns in Registration DataFrame:\")\n",
    "print(registration_df.columns)"
   ]
  },
  {
   "cell_type": "code",
   "execution_count": 281,
   "id": "06021ad0-a17b-4160-8fe1-ba9eef8918ba",
   "metadata": {},
   "outputs": [
    {
     "name": "stdout",
     "output_type": "stream",
     "text": [
      "Columns in Course Info DataFrame:\n",
      "Index(['course_number', 'course_name_', 'course_type'], dtype='object')\n"
     ]
    }
   ],
   "source": [
    "# Print column names of the Course Info DataFrame\n",
    "print(\"Columns in Course Info DataFrame:\")\n",
    "print(course_info_df.columns)"
   ]
  },
  {
   "cell_type": "code",
   "execution_count": 283,
   "id": "2531832c-aaa8-43fd-ab27-f19fb54a38e4",
   "metadata": {},
   "outputs": [],
   "source": [
    "# Perform inner join\n",
    "merged_df = pd.merge(registration_df, course_info_df, \n",
    "                     left_on='coursename', \n",
    "                     right_on='course_name_', \n",
    "                     how='inner')"
   ]
  },
  {
   "cell_type": "code",
   "execution_count": 285,
   "id": "ecf3065a-0344-4022-bb94-5dfdbe98538f",
   "metadata": {},
   "outputs": [
    {
     "name": "stdout",
     "output_type": "stream",
     "text": [
      "  student_name               coursename   semester course_number  \\\n",
      "0    Bill Mumy  BEHAVIORAL PHARMACOLOGY 2004-09-01       ARTS516   \n",
      "1    Bill Mumy  COMPUTER LINEAR ALGEBRA 2000-09-01       ARTS486   \n",
      "2    Bill Mumy     ANALYTICAL MECHANICS 2002-09-01       ARTS512   \n",
      "3    Bill Mumy     ANALYTICAL MECHANICS 2002-09-01       ARTS512   \n",
      "4    Bill Mumy     ANALYTICAL MECHANICS 2002-09-01       ARTS512   \n",
      "\n",
      "              course_name_ course_type  \n",
      "0  BEHAVIORAL PHARMACOLOGY           F  \n",
      "1  COMPUTER LINEAR ALGEBRA           F  \n",
      "2     ANALYTICAL MECHANICS           F  \n",
      "3     ANALYTICAL MECHANICS           F  \n",
      "4     ANALYTICAL MECHANICS           F  \n"
     ]
    }
   ],
   "source": [
    "# Display the first few rows of the merged dataframe\n",
    "print(merged_df.head())"
   ]
  },
  {
   "cell_type": "code",
   "execution_count": 287,
   "id": "1667f21e-230c-45d7-bdb3-87998767172f",
   "metadata": {},
   "outputs": [
    {
     "name": "stdout",
     "output_type": "stream",
     "text": [
      "Shape of merged dataframe: (2386, 6)\n"
     ]
    }
   ],
   "source": [
    "# Display the shape of the merged dataframe\n",
    "print(f\"Shape of merged dataframe: {merged_df.shape}\")"
   ]
  },
  {
   "cell_type": "markdown",
   "id": "858676f8-cafc-4453-9740-c9df5be9187b",
   "metadata": {},
   "source": [
    "## Create a data frame with student names as the index, course numbers as columns, and if the student registered a course as values (0, 1)"
   ]
  },
  {
   "cell_type": "code",
   "execution_count": 290,
   "id": "b6f009da-b483-4f9a-b25e-c51fd7e9e00f",
   "metadata": {},
   "outputs": [],
   "source": [
    "# Create a pivot table\n",
    "pivot_df = pd.pivot_table(merged_df, values='semester', index='student_name', \n",
    "                          columns='course_number', aggfunc='count', fill_value=0)"
   ]
  },
  {
   "cell_type": "code",
   "execution_count": 292,
   "id": "b029463e-30ac-411c-9105-0883b37404ce",
   "metadata": {},
   "outputs": [],
   "source": [
    "# Convert to binary (0 or 1)\n",
    "pivot_df = (pivot_df > 0).astype(int)"
   ]
  },
  {
   "cell_type": "code",
   "execution_count": 294,
   "id": "7d72b448-b9ae-4003-b56f-b70eaa86be67",
   "metadata": {},
   "outputs": [
    {
     "name": "stdout",
     "output_type": "stream",
     "text": [
      "Part of the Final Data Frame:\n",
      "course_number  ARTS400  ARTS401\n",
      "student_name                   \n",
      "ABella Abzug         0        0\n",
      "Al Gore              0        0\n",
      "Al Hirt              0        0\n",
      "Al Roker             1        0\n"
     ]
    }
   ],
   "source": [
    "# Display part of the final data frame\n",
    "print(\"Part of the Final Data Frame:\")\n",
    "print(pivot_df.iloc[:4, :2])"
   ]
  },
  {
   "cell_type": "code",
   "execution_count": null,
   "id": "76332be4-9bb3-4d11-ba11-6386094247d3",
   "metadata": {},
   "outputs": [],
   "source": []
  }
 ],
 "metadata": {
  "kernelspec": {
   "display_name": "Python 3 (ipykernel)",
   "language": "python",
   "name": "python3"
  },
  "language_info": {
   "codemirror_mode": {
    "name": "ipython",
    "version": 3
   },
   "file_extension": ".py",
   "mimetype": "text/x-python",
   "name": "python",
   "nbconvert_exporter": "python",
   "pygments_lexer": "ipython3",
   "version": "3.10.14"
  }
 },
 "nbformat": 4,
 "nbformat_minor": 5
}
